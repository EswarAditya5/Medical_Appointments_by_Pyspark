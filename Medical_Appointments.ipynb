{
  "cells": [
    {
      "cell_type": "code",
      "execution_count": null,
      "metadata": {
        "id": "gRJl9juhdNKl"
      },
      "outputs": [],
      "source": [
        "!pip install pyspark"
      ]
    },
    {
      "cell_type": "code",
      "execution_count": null,
      "metadata": {
        "id": "8J00znMQXp0W"
      },
      "outputs": [],
      "source": [
        "import pyspark\n",
        "from pyspark.sql import SparkSession"
      ]
    },
    {
      "cell_type": "code",
      "execution_count": null,
      "metadata": {
        "id": "eC9kFWKEXwo3"
      },
      "outputs": [],
      "source": [
        "spark=SparkSession.builder.appName('healthcare').getOrCreate()"
      ]
    },
    {
      "cell_type": "code",
      "execution_count": null,
      "metadata": {
        "colab": {
          "base_uri": "https://localhost:8080/"
        },
        "id": "f4lC-jqpYM6c",
        "outputId": "d78715ee-b8e2-444a-d159-76dac8a9bf0c"
      },
      "outputs": [
        {
          "name": "stdout",
          "output_type": "stream",
          "text": [
            "Drive already mounted at /content/drive; to attempt to forcibly remount, call drive.mount(\"/content/drive\", force_remount=True).\n"
          ]
        }
      ],
      "source": [
        "from google.colab import drive\n",
        "drive.mount('/content/drive')"
      ]
    },
    {
      "cell_type": "code",
      "execution_count": null,
      "metadata": {
        "id": "1l8MTJZxX_rq"
      },
      "outputs": [],
      "source": [
        "appointmentdf=spark.read.csv('/content/drive/MyDrive/All files/Datasets/KaggleV2-May-2016.csv',inferSchema=True,header=True)"
      ]
    },
    {
      "cell_type": "code",
      "execution_count": null,
      "metadata": {
        "colab": {
          "base_uri": "https://localhost:8080/"
        },
        "id": "jdNF9ybJZ_bj",
        "outputId": "d859793f-3fff-4d97-e3a1-14027f493a61"
      },
      "outputs": [
        {
          "name": "stdout",
          "output_type": "stream",
          "text": [
            "+-------+--------------------+-----------------+------+------------------+-------------+-------------------+-------------------+-------------------+--------------------+--------------------+-------------------+-------+\n",
            "|summary|           PatientId|    AppointmentID|Gender|               Age|Neighbourhood|        Scholarship|       Hipertension|           Diabetes|          Alcoholism|             Handcap|       SMS_received|No-show|\n",
            "+-------+--------------------+-----------------+------+------------------+-------------+-------------------+-------------------+-------------------+--------------------+--------------------+-------------------+-------+\n",
            "|  count|              110527|           110527|110527|            110527|       110527|             110527|             110527|             110527|              110527|              110527|             110527| 110527|\n",
            "|   mean|1.474962657103946...|5675305.123426855|  NULL| 37.08887421173107|         NULL|0.09826558216544373| 0.1972459218109602|0.07186479321794674|0.030399811810688793|0.022247957512643968|0.32102563174608917|   NULL|\n",
            "| stddev| 2.56094920291739E14|71295.75153967967|  NULL|23.110204963682584|         NULL|0.29767475410930705|0.39792134994708794| 0.2582650735074656|  0.1716855554142438| 0.16154272581427892|  0.466872731701867|   NULL|\n",
            "|    min|         39217.84439|          5030230|     F|                -1|    AEROPORTO|                  0|                  0|                  0|                   0|                   0|                  0|     No|\n",
            "|    max| 9.99981631772427E14|          5790484|     M|               115|   VILA RUBIM|                  1|                  1|                  1|                   1|                   4|                  1|    Yes|\n",
            "+-------+--------------------+-----------------+------+------------------+-------------+-------------------+-------------------+-------------------+--------------------+--------------------+-------------------+-------+\n",
            "\n"
          ]
        }
      ],
      "source": [
        "appointmentdf.describe().show(5)"
      ]
    },
    {
      "cell_type": "code",
      "execution_count": null,
      "metadata": {
        "colab": {
          "base_uri": "https://localhost:8080/"
        },
        "id": "A0vOIsgPaSOg",
        "outputId": "5ff14a23-bb7e-4769-8371-95a995ef7a17"
      },
      "outputs": [
        {
          "data": {
            "text/plain": [
              "['PatientId',\n",
              " 'AppointmentID',\n",
              " 'Gender',\n",
              " 'ScheduledDay',\n",
              " 'AppointmentDay',\n",
              " 'Age',\n",
              " 'Neighbourhood',\n",
              " 'Scholarship',\n",
              " 'Hipertension',\n",
              " 'Diabetes',\n",
              " 'Alcoholism',\n",
              " 'Handcap',\n",
              " 'SMS_received',\n",
              " 'No-show']"
            ]
          },
          "execution_count": 57,
          "metadata": {},
          "output_type": "execute_result"
        }
      ],
      "source": [
        "appointmentdf.columns"
      ]
    },
    {
      "cell_type": "code",
      "execution_count": null,
      "metadata": {
        "colab": {
          "base_uri": "https://localhost:8080/"
        },
        "id": "MWTh9xBtbI4J",
        "outputId": "ba70fcae-1483-419e-d8de-c5f32575c8b4"
      },
      "outputs": [
        {
          "data": {
            "text/plain": [
              "[('PatientId', 'double'),\n",
              " ('AppointmentID', 'int'),\n",
              " ('Gender', 'string'),\n",
              " ('ScheduledDay', 'timestamp'),\n",
              " ('AppointmentDay', 'timestamp'),\n",
              " ('Age', 'int'),\n",
              " ('Neighbourhood', 'string'),\n",
              " ('Scholarship', 'int'),\n",
              " ('Hipertension', 'int'),\n",
              " ('Diabetes', 'int'),\n",
              " ('Alcoholism', 'int'),\n",
              " ('Handcap', 'int'),\n",
              " ('SMS_received', 'int'),\n",
              " ('No-show', 'string')]"
            ]
          },
          "execution_count": 58,
          "metadata": {},
          "output_type": "execute_result"
        }
      ],
      "source": [
        "appointmentdf.dtypes"
      ]
    },
    {
      "cell_type": "code",
      "execution_count": null,
      "metadata": {
        "colab": {
          "base_uri": "https://localhost:8080/"
        },
        "id": "4ntTJdsnbN-N",
        "outputId": "85d094c9-8a2a-446c-c001-f56f02bd523b"
      },
      "outputs": [
        {
          "name": "stdout",
          "output_type": "stream",
          "text": [
            "+-------+-----+\n",
            "|No-show|count|\n",
            "+-------+-----+\n",
            "|     No|88208|\n",
            "|    Yes|22319|\n",
            "+-------+-----+\n",
            "\n"
          ]
        }
      ],
      "source": [
        "appointmentdf.groupBy('No-show').count().show()"
      ]
    },
    {
      "cell_type": "code",
      "execution_count": null,
      "metadata": {
        "colab": {
          "base_uri": "https://localhost:8080/"
        },
        "id": "DnMvaFWsboO7",
        "outputId": "d84eab61-4067-418d-e213-24d10821a4a0"
      },
      "outputs": [
        {
          "name": "stdout",
          "output_type": "stream",
          "text": [
            "+-------+------------------+\n",
            "|summary|               Age|\n",
            "+-------+------------------+\n",
            "|  count|            110527|\n",
            "|   mean| 37.08887421173107|\n",
            "| stddev|23.110204963682584|\n",
            "|    min|                -1|\n",
            "|    max|               115|\n",
            "+-------+------------------+\n",
            "\n"
          ]
        }
      ],
      "source": [
        "appointmentdf.select('Age').describe().show()"
      ]
    },
    {
      "cell_type": "code",
      "execution_count": null,
      "metadata": {
        "id": "FHNhbyTmdP_m"
      },
      "outputs": [],
      "source": [
        "from pyspark.sql.functions import skewness,kurtosis"
      ]
    },
    {
      "cell_type": "code",
      "execution_count": null,
      "metadata": {
        "colab": {
          "base_uri": "https://localhost:8080/"
        },
        "id": "T8YaMm91dWdY",
        "outputId": "095185e3-9e8b-47d4-b378-551e5215694e"
      },
      "outputs": [
        {
          "name": "stdout",
          "output_type": "stream",
          "text": [
            "+-------------------+------------------+\n",
            "|      skewness(Age)|     kurtosis(Age)|\n",
            "+-------------------+------------------+\n",
            "|0.12165636682687768|-0.952278601592428|\n",
            "+-------------------+------------------+\n",
            "\n"
          ]
        }
      ],
      "source": [
        "appointmentdf.select(skewness('Age'),kurtosis('Age')).show()"
      ]
    },
    {
      "cell_type": "code",
      "execution_count": null,
      "metadata": {
        "colab": {
          "base_uri": "https://localhost:8080/"
        },
        "id": "-mwMRI9CdkLA",
        "outputId": "f94fa897-2035-4148-9104-eb28c8e3067d"
      },
      "outputs": [
        {
          "name": "stdout",
          "output_type": "stream",
          "text": [
            "+-------+------------------+\n",
            "|No-show|          avg(Age)|\n",
            "+-------+------------------+\n",
            "|     No|37.790064393252315|\n",
            "|    Yes| 34.31766656212196|\n",
            "+-------+------------------+\n",
            "\n"
          ]
        }
      ],
      "source": [
        "appointmentdf.groupBy('No-show').mean('Age').show()"
      ]
    },
    {
      "cell_type": "code",
      "execution_count": null,
      "metadata": {
        "colab": {
          "base_uri": "https://localhost:8080/"
        },
        "id": "0zeGJ3-qeFSc",
        "outputId": "f8311bd9-7ade-4598-91e0-de8f44d54fb9"
      },
      "outputs": [
        {
          "name": "stdout",
          "output_type": "stream",
          "text": [
            "+--------------------+-----+-----+\n",
            "|No-show_SMS_received|    0|    1|\n",
            "+--------------------+-----+-----+\n",
            "|                  No|62510|25698|\n",
            "|                 Yes|12535| 9784|\n",
            "+--------------------+-----+-----+\n",
            "\n"
          ]
        }
      ],
      "source": [
        "appointmentdf.crosstab('No-show','SMS_received').show()"
      ]
    },
    {
      "cell_type": "code",
      "execution_count": null,
      "metadata": {
        "id": "5ScvXneuebu3"
      },
      "outputs": [],
      "source": [
        "from pyspark.ml.feature import StringIndexer\n",
        "from pyspark.ml import Pipeline"
      ]
    },
    {
      "cell_type": "code",
      "execution_count": null,
      "metadata": {
        "id": "MRbD-JYcfEkO"
      },
      "outputs": [],
      "source": [
        "gender_dummy=StringIndexer(inputCol='Gender',outputCol='genderdummy')\n",
        "neighbor_dummy=StringIndexer(inputCol='Neighbourhood',outputCol='neighbordummy')\n",
        "scholar_dummy=StringIndexer(inputCol='Scholarship',outputCol='scholardummy')\n",
        "bp_dummy=StringIndexer(inputCol='Hipertension',outputCol='bpdummy')\n",
        "sugar_dummy=StringIndexer(inputCol='Diabetes',outputCol='sugardummy')\n",
        "alcohol_dummy=StringIndexer(inputCol='Alcoholism',outputCol=\"alcoholdummy\")\n",
        "handicap_dummy=StringIndexer(inputCol='Handcap',outputCol='handicapdummy')\n",
        "sms_dummy=StringIndexer(inputCol='SMS_received',outputCol='smsdummy')\n",
        "noshow_dummy=StringIndexer(inputCol='No-show',outputCol='noshowdummy')"
      ]
    },
    {
      "cell_type": "code",
      "execution_count": null,
      "metadata": {
        "id": "txuez9nlheVq"
      },
      "outputs": [],
      "source": [
        "pipeline=Pipeline(stages=[gender_dummy,neighbor_dummy,scholar_dummy,bp_dummy,sugar_dummy,alcohol_dummy,handicap_dummy,sms_dummy,noshow_dummy])"
      ]
    },
    {
      "cell_type": "code",
      "execution_count": null,
      "metadata": {
        "id": "6RsshDFSiC0J"
      },
      "outputs": [],
      "source": [
        "appointmentRDD=pipeline.fit(appointmentdf).transform(appointmentdf)"
      ]
    },
    {
      "cell_type": "code",
      "execution_count": null,
      "metadata": {
        "colab": {
          "base_uri": "https://localhost:8080/"
        },
        "id": "IYxuWwN4iQhn",
        "outputId": "9157e087-d646-4e8b-d4cd-82e463c38bd4"
      },
      "outputs": [
        {
          "name": "stdout",
          "output_type": "stream",
          "text": [
            "+-------+--------------------+-----------------+------+------------------+-------------+-------------------+-------------------+-------------------+--------------------+--------------------+-------------------+-------+-------------------+------------------+-------------------+-------------------+-------------------+--------------------+--------------------+-------------------+-------------------+\n",
            "|summary|           PatientId|    AppointmentID|Gender|               Age|Neighbourhood|        Scholarship|       Hipertension|           Diabetes|          Alcoholism|             Handcap|       SMS_received|No-show|        genderdummy|     neighbordummy|       scholardummy|            bpdummy|         sugardummy|        alcoholdummy|       handicapdummy|           smsdummy|        noshowdummy|\n",
            "+-------+--------------------+-----------------+------+------------------+-------------+-------------------+-------------------+-------------------+--------------------+--------------------+-------------------+-------+-------------------+------------------+-------------------+-------------------+-------------------+--------------------+--------------------+-------------------+-------------------+\n",
            "|  count|              110527|           110527|110527|            110527|       110527|             110527|             110527|             110527|              110527|              110527|             110527| 110527|             110527|            110527|             110527|             110527|             110527|              110527|              110527|             110527|             110527|\n",
            "|   mean|1.474962657103946...|5675305.123426855|  NULL| 37.08887421173107|         NULL|0.09826558216544373| 0.1972459218109602|0.07186479321794674|0.030399811810688793|0.022247957512643968|0.32102563174608917|   NULL|0.35002307128574917| 19.65194024989369|0.09826558216544373| 0.1972459218109602|0.07186479321794674|0.030399811810688793|0.022247957512643968|0.32102563174608917|0.20193255946510807|\n",
            "| stddev| 2.56094920291739E14|71295.75153967967|  NULL|23.110204963682584|         NULL|0.29767475410930705|0.39792134994708794| 0.2582650735074656|  0.1716855554142438| 0.16154272581427892|  0.466872731701867|   NULL| 0.4769790134327433|17.371739136978466|0.29767475410930705|0.39792134994708794| 0.2582650735074656|  0.1716855554142438| 0.16154272581427892|  0.466872731701867| 0.4014439674144329|\n",
            "|    min|         39217.84439|          5030230|     F|                -1|    AEROPORTO|                  0|                  0|                  0|                   0|                   0|                  0|     No|                0.0|               0.0|                0.0|                0.0|                0.0|                 0.0|                 0.0|                0.0|                0.0|\n",
            "|    max| 9.99981631772427E14|          5790484|     M|               115|   VILA RUBIM|                  1|                  1|                  1|                   1|                   4|                  1|    Yes|                1.0|              80.0|                1.0|                1.0|                1.0|                 1.0|                 4.0|                1.0|                1.0|\n",
            "+-------+--------------------+-----------------+------+------------------+-------------+-------------------+-------------------+-------------------+--------------------+--------------------+-------------------+-------+-------------------+------------------+-------------------+-------------------+-------------------+--------------------+--------------------+-------------------+-------------------+\n",
            "\n"
          ]
        }
      ],
      "source": [
        "appointmentRDD.describe().show(5)"
      ]
    },
    {
      "cell_type": "code",
      "execution_count": null,
      "metadata": {
        "colab": {
          "base_uri": "https://localhost:8080/"
        },
        "id": "Le6yMibkjReh",
        "outputId": "9b4ec7f6-53c8-41a9-aa6d-2141736b2054"
      },
      "outputs": [
        {
          "data": {
            "text/plain": [
              "['PatientId',\n",
              " 'AppointmentID',\n",
              " 'Gender',\n",
              " 'ScheduledDay',\n",
              " 'AppointmentDay',\n",
              " 'Age',\n",
              " 'Neighbourhood',\n",
              " 'Scholarship',\n",
              " 'Hipertension',\n",
              " 'Diabetes',\n",
              " 'Alcoholism',\n",
              " 'Handcap',\n",
              " 'SMS_received',\n",
              " 'No-show',\n",
              " 'genderdummy',\n",
              " 'neighbordummy',\n",
              " 'scholardummy',\n",
              " 'bpdummy',\n",
              " 'sugardummy',\n",
              " 'alcoholdummy',\n",
              " 'handicapdummy',\n",
              " 'smsdummy',\n",
              " 'noshowdummy']"
            ]
          },
          "execution_count": 70,
          "metadata": {},
          "output_type": "execute_result"
        }
      ],
      "source": [
        "appointmentRDD.columns"
      ]
    },
    {
      "cell_type": "code",
      "execution_count": null,
      "metadata": {
        "id": "-DuRELYQjot1"
      },
      "outputs": [],
      "source": [
        "colsdrop=['PatientId','AppointmentID','Gender','ScheduledDay','AppointmentDay','Neighbourhood','Scholarship','Hipertension','Diabetes','Alcoholism', 'Handcap',\n",
        "          'SMS_received', 'No-show']"
      ]
    },
    {
      "cell_type": "code",
      "execution_count": null,
      "metadata": {
        "id": "dQxMqg5ij882"
      },
      "outputs": [],
      "source": [
        "appointmentRDDDF=appointmentRDD.drop(*colsdrop)"
      ]
    },
    {
      "cell_type": "code",
      "execution_count": null,
      "metadata": {
        "colab": {
          "base_uri": "https://localhost:8080/"
        },
        "id": "oghNyYjGkCdO",
        "outputId": "3f1568e0-84c2-48bf-99b2-51575dbbe504"
      },
      "outputs": [
        {
          "name": "stdout",
          "output_type": "stream",
          "text": [
            "+---+-----------+-------------+------------+-------+----------+------------+-------------+--------+-----------+\n",
            "|Age|genderdummy|neighbordummy|scholardummy|bpdummy|sugardummy|alcoholdummy|handicapdummy|smsdummy|noshowdummy|\n",
            "+---+-----------+-------------+------------+-------+----------+------------+-------------+--------+-----------+\n",
            "| 62|        0.0|          3.0|         0.0|    1.0|       0.0|         0.0|          0.0|     0.0|        0.0|\n",
            "| 56|        1.0|          3.0|         0.0|    0.0|       0.0|         0.0|          0.0|     0.0|        0.0|\n",
            "| 62|        0.0|         49.0|         0.0|    0.0|       0.0|         0.0|          0.0|     0.0|        0.0|\n",
            "|  8|        0.0|         75.0|         0.0|    0.0|       0.0|         0.0|          0.0|     0.0|        0.0|\n",
            "| 56|        0.0|          3.0|         0.0|    1.0|       1.0|         0.0|          0.0|     0.0|        0.0|\n",
            "| 76|        0.0|         43.0|         0.0|    1.0|       0.0|         0.0|          0.0|     0.0|        0.0|\n",
            "+---+-----------+-------------+------------+-------+----------+------------+-------------+--------+-----------+\n",
            "only showing top 6 rows\n",
            "\n"
          ]
        }
      ],
      "source": [
        "appointmentRDDDF.show(6)"
      ]
    },
    {
      "cell_type": "code",
      "execution_count": null,
      "metadata": {
        "id": "rrzfleFQksvV"
      },
      "outputs": [],
      "source": [
        "from pyspark.ml.feature import RFormula"
      ]
    },
    {
      "cell_type": "code",
      "execution_count": null,
      "metadata": {
        "id": "wjLjlZ4Vk8ok"
      },
      "outputs": [],
      "source": [
        "formula=RFormula(formula='noshowdummy~.',featuresCol='features',labelCol='label')"
      ]
    },
    {
      "cell_type": "code",
      "execution_count": null,
      "metadata": {
        "id": "RYUdbqkAlJ2J"
      },
      "outputs": [],
      "source": [
        "appointmentRDD=formula.fit(appointmentRDDDF).transform(appointmentRDDDF)"
      ]
    },
    {
      "cell_type": "code",
      "execution_count": null,
      "metadata": {
        "colab": {
          "base_uri": "https://localhost:8080/"
        },
        "id": "P7SEXXpMlWtc",
        "outputId": "7e975f87-d90a-407d-f986-1cb6d27e1932"
      },
      "outputs": [
        {
          "name": "stdout",
          "output_type": "stream",
          "text": [
            "+--------------------+-----+\n",
            "|            features|label|\n",
            "+--------------------+-----+\n",
            "|(9,[0,2,4],[62.0,...|  0.0|\n",
            "|(9,[0,1,2],[56.0,...|  0.0|\n",
            "|(9,[0,2],[62.0,49...|  0.0|\n",
            "|(9,[0,2],[8.0,75.0])|  0.0|\n",
            "|(9,[0,2,4,5],[56....|  0.0|\n",
            "+--------------------+-----+\n",
            "only showing top 5 rows\n",
            "\n"
          ]
        }
      ],
      "source": [
        "appointmentRDD.select('features','label').show(5)"
      ]
    },
    {
      "cell_type": "code",
      "execution_count": null,
      "metadata": {
        "colab": {
          "base_uri": "https://localhost:8080/"
        },
        "id": "XZ7SB_H_lmOm",
        "outputId": "ab051c57-aa9d-4068-8f32-9eac680ce192"
      },
      "outputs": [
        {
          "name": "stdout",
          "output_type": "stream",
          "text": [
            "+---+-----------+-------------+------------+-------+----------+------------+-------------+--------+-----------+\n",
            "|Age|genderdummy|neighbordummy|scholardummy|bpdummy|sugardummy|alcoholdummy|handicapdummy|smsdummy|noshowdummy|\n",
            "+---+-----------+-------------+------------+-------+----------+------------+-------------+--------+-----------+\n",
            "| 62|        0.0|          3.0|         0.0|    1.0|       0.0|         0.0|          0.0|     0.0|        0.0|\n",
            "| 56|        1.0|          3.0|         0.0|    0.0|       0.0|         0.0|          0.0|     0.0|        0.0|\n",
            "| 62|        0.0|         49.0|         0.0|    0.0|       0.0|         0.0|          0.0|     0.0|        0.0|\n",
            "|  8|        0.0|         75.0|         0.0|    0.0|       0.0|         0.0|          0.0|     0.0|        0.0|\n",
            "| 56|        0.0|          3.0|         0.0|    1.0|       1.0|         0.0|          0.0|     0.0|        0.0|\n",
            "+---+-----------+-------------+------------+-------+----------+------------+-------------+--------+-----------+\n",
            "only showing top 5 rows\n",
            "\n"
          ]
        }
      ],
      "source": [
        "appointmentRDDDF.show(5)"
      ]
    },
    {
      "cell_type": "code",
      "execution_count": null,
      "metadata": {
        "id": "MLiDhjJDmDZO"
      },
      "outputs": [],
      "source": [
        "from pyspark.ml.classification import LogisticRegression\n",
        "from pyspark.ml.evaluation import BinaryClassificationEvaluator,MulticlassClassificationEvaluator"
      ]
    },
    {
      "cell_type": "code",
      "execution_count": null,
      "metadata": {
        "id": "d-hL0-NKmUXr"
      },
      "outputs": [],
      "source": [
        "logit=LogisticRegression(featuresCol='features',labelCol='label')"
      ]
    },
    {
      "cell_type": "code",
      "execution_count": null,
      "metadata": {
        "id": "Vd02KOXemXuC"
      },
      "outputs": [],
      "source": [
        "logitmodel=logit.fit(appointmentRDD)"
      ]
    },
    {
      "cell_type": "code",
      "execution_count": null,
      "metadata": {
        "colab": {
          "base_uri": "https://localhost:8080/"
        },
        "id": "Kxjd-COkmarZ",
        "outputId": "cfac6fcc-006e-47b8-b4fe-7605b96e8eed"
      },
      "outputs": [
        {
          "data": {
            "text/plain": [
              "0.798067440534892"
            ]
          },
          "execution_count": 86,
          "metadata": {},
          "output_type": "execute_result"
        }
      ],
      "source": [
        "logitmodel.summary.accuracy"
      ]
    },
    {
      "cell_type": "code",
      "execution_count": null,
      "metadata": {
        "colab": {
          "base_uri": "https://localhost:8080/"
        },
        "id": "lMc9WLOGmpwR",
        "outputId": "91cabad5-a2df-4aeb-eb80-aef965f8bb06"
      },
      "outputs": [
        {
          "data": {
            "text/plain": [
              "0.5964373847872473"
            ]
          },
          "execution_count": 87,
          "metadata": {},
          "output_type": "execute_result"
        }
      ],
      "source": [
        "logitmodel.summary.areaUnderROC"
      ]
    },
    {
      "cell_type": "code",
      "execution_count": null,
      "metadata": {
        "id": "RDBV4pIgm9e9"
      },
      "outputs": [],
      "source": [
        "logitpredict=logitmodel.transform(appointmentRDD)"
      ]
    },
    {
      "cell_type": "code",
      "execution_count": null,
      "metadata": {
        "colab": {
          "base_uri": "https://localhost:8080/"
        },
        "id": "QumfnnRLqrje",
        "outputId": "3f43b0d5-f095-47a5-8cbf-77acab692a00"
      },
      "outputs": [
        {
          "name": "stdout",
          "output_type": "stream",
          "text": [
            "+---+-----------+-------------+------------+-------+----------+------------+-------------+--------+-----------+--------------------+-----+--------------------+--------------------+----------+\n",
            "|Age|genderdummy|neighbordummy|scholardummy|bpdummy|sugardummy|alcoholdummy|handicapdummy|smsdummy|noshowdummy|            features|label|       rawPrediction|         probability|prediction|\n",
            "+---+-----------+-------------+------------+-------+----------+------------+-------------+--------+-----------+--------------------+-----+--------------------+--------------------+----------+\n",
            "| 62|        0.0|          3.0|         0.0|    1.0|       0.0|         0.0|          0.0|     0.0|        0.0|(9,[0,2,4],[62.0,...|  0.0|[1.84923515524927...|[0.86403727644512...|       0.0|\n",
            "| 56|        1.0|          3.0|         0.0|    0.0|       0.0|         0.0|          0.0|     0.0|        0.0|(9,[0,1,2],[56.0,...|  0.0|[1.76093057588088...|[0.85332616995024...|       0.0|\n",
            "| 62|        0.0|         49.0|         0.0|    0.0|       0.0|         0.0|          0.0|     0.0|        0.0|(9,[0,2],[62.0,49...|  0.0|[1.81058530147838...|[0.85943259836482...|       0.0|\n",
            "|  8|        0.0|         75.0|         0.0|    0.0|       0.0|         0.0|          0.0|     0.0|        0.0|(9,[0,2],[8.0,75.0])|  0.0|[1.47125232257241...|[0.81324765827195...|       0.0|\n",
            "| 56|        0.0|          3.0|         0.0|    1.0|       1.0|         0.0|          0.0|     0.0|        0.0|(9,[0,2,4,5],[56....|  0.0|[1.72418764694120...|[0.84866744571352...|       0.0|\n",
            "| 76|        0.0|         43.0|         0.0|    1.0|       0.0|         0.0|          0.0|     0.0|        0.0|(9,[0,2,4],[76.0,...|  0.0|[1.96591626088222...|[0.87717180254714...|       0.0|\n",
            "| 23|        0.0|         46.0|         0.0|    0.0|       0.0|         0.0|          0.0|     0.0|        1.0|(9,[0,2],[23.0,46...|  1.0|[1.55213663182560...|[0.82522211364757...|       0.0|\n",
            "| 39|        0.0|         46.0|         0.0|    0.0|       0.0|         0.0|          0.0|     0.0|        1.0|(9,[0,2],[39.0,46...|  1.0|[1.65741097669213...|[0.83989015126050...|       0.0|\n",
            "| 21|        0.0|         17.0|         0.0|    0.0|       0.0|         0.0|          0.0|     0.0|        0.0|(9,[0,2],[21.0,17...|  0.0|[1.52116694965810...|[0.82071025558848...|       0.0|\n",
            "| 19|        0.0|         41.0|         0.0|    0.0|       0.0|         0.0|          0.0|     0.0|        0.0|(9,[0,2],[19.0,41...|  0.0|[1.52274728887462...|[0.82094267664840...|       0.0|\n",
            "| 30|        0.0|         16.0|         0.0|    0.0|       0.0|         0.0|          0.0|     0.0|        0.0|(9,[0,2],[30.0,16...|  0.0|[1.57976961729866...|[0.82917188769451...|       0.0|\n",
            "| 29|        1.0|         16.0|         0.0|    0.0|       0.0|         0.0|          0.0|     1.0|        1.0|(9,[0,1,2,8],[29....|  1.0|[0.94092806055521...|[0.71928708319969...|       0.0|\n",
            "| 22|        0.0|         16.0|         1.0|    0.0|       0.0|         0.0|          0.0|     0.0|        0.0|(9,[0,2,3],[22.0,...|  0.0|[1.34176812085022...|[0.79278055789711...|       0.0|\n",
            "| 28|        1.0|         16.0|         0.0|    0.0|       0.0|         0.0|          0.0|     0.0|        0.0|(9,[0,1,2],[28.0,...|  0.0|[1.58468443987374...|[0.82986692615876...|       0.0|\n",
            "| 54|        0.0|         16.0|         0.0|    0.0|       0.0|         0.0|          0.0|     0.0|        0.0|(9,[0,2],[54.0,16...|  0.0|[1.73768113459846...|[0.85039228689304...|       0.0|\n",
            "| 15|        0.0|         16.0|         0.0|    0.0|       0.0|         0.0|          0.0|     1.0|        0.0|(9,[0,2,8],[15.0,...|  0.0|[0.83073889311359...|[0.69651114221602...|       0.0|\n",
            "| 50|        1.0|         16.0|         0.0|    0.0|       0.0|         0.0|          0.0|     0.0|        0.0|(9,[0,1,2],[50.0,...|  0.0|[1.72943666406522...|[0.84934034922930...|       0.0|\n",
            "| 40|        0.0|         41.0|         1.0|    0.0|       0.0|         0.0|          0.0|     0.0|        1.0|(9,[0,2,3],[40.0,...|  1.0|[1.47555554249678...|[0.81390033289529...|       0.0|\n",
            "| 30|        0.0|         16.0|         1.0|    0.0|       0.0|         0.0|          0.0|     1.0|        0.0|(9,[0,2,3,8],[30....|  0.0|[0.74406926741080...|[0.67788505131765...|       0.0|\n",
            "| 46|        0.0|         18.0|         0.0|    0.0|       0.0|         0.0|          0.0|     0.0|        0.0|(9,[0,2],[46.0,18...|  0.0|[1.68627226485893...|[0.84373329714760...|       0.0|\n",
            "+---+-----------+-------------+------------+-------+----------+------------+-------------+--------+-----------+--------------------+-----+--------------------+--------------------+----------+\n",
            "only showing top 20 rows\n",
            "\n"
          ]
        }
      ],
      "source": [
        "logitpredict.show()"
      ]
    },
    {
      "cell_type": "code",
      "execution_count": null,
      "metadata": {
        "id": "i98dKhJCzvtS"
      },
      "outputs": [],
      "source": [
        "accuracy=MulticlassClassificationEvaluator(metricName='accuracy')\n",
        "auc=BinaryClassificationEvaluator()"
      ]
    },
    {
      "cell_type": "code",
      "execution_count": null,
      "metadata": {
        "id": "HjK0fxT40Cj_"
      },
      "outputs": [],
      "source": [
        "from pyspark.ml.classification import DecisionTreeClassifier"
      ]
    },
    {
      "cell_type": "code",
      "execution_count": null,
      "metadata": {
        "id": "bf5vgo1t0KBl"
      },
      "outputs": [],
      "source": [
        "tree=DecisionTreeClassifier(maxBins=81)"
      ]
    },
    {
      "cell_type": "code",
      "execution_count": null,
      "metadata": {
        "id": "XZ4VsJd90M28"
      },
      "outputs": [],
      "source": [
        "treemodel=tree.fit(appointmentRDD)"
      ]
    },
    {
      "cell_type": "code",
      "execution_count": null,
      "metadata": {
        "id": "AnLh892O0gNF"
      },
      "outputs": [],
      "source": [
        "treepredict=treemodel.transform(appointmentRDD)"
      ]
    },
    {
      "cell_type": "code",
      "execution_count": null,
      "metadata": {
        "colab": {
          "base_uri": "https://localhost:8080/"
        },
        "id": "HMgMN7iL0ms4",
        "outputId": "bdfc4e97-f06e-4d92-d098-400f10a5e4cd"
      },
      "outputs": [
        {
          "data": {
            "text/plain": [
              "0.798067440534892"
            ]
          },
          "execution_count": 99,
          "metadata": {},
          "output_type": "execute_result"
        }
      ],
      "source": [
        "accuracy.evaluate(treepredict)"
      ]
    },
    {
      "cell_type": "code",
      "execution_count": null,
      "metadata": {
        "colab": {
          "base_uri": "https://localhost:8080/"
        },
        "id": "UkpmcJcM0va2",
        "outputId": "394ae6c3-eb84-4dca-8643-41dd9a959678"
      },
      "outputs": [
        {
          "data": {
            "text/plain": [
              "0.5"
            ]
          },
          "execution_count": 100,
          "metadata": {},
          "output_type": "execute_result"
        }
      ],
      "source": [
        "auc.evaluate(treepredict)"
      ]
    },
    {
      "cell_type": "code",
      "execution_count": null,
      "metadata": {
        "id": "oGVxebWh0z_1"
      },
      "outputs": [],
      "source": [
        "from pyspark.ml.classification import RandomForestClassifier"
      ]
    },
    {
      "cell_type": "code",
      "execution_count": null,
      "metadata": {
        "id": "pCpcbRya1ahN"
      },
      "outputs": [],
      "source": [
        "rf=RandomForestClassifier(maxBins=81)"
      ]
    },
    {
      "cell_type": "code",
      "execution_count": null,
      "metadata": {
        "id": "86baL0Tx1s_K"
      },
      "outputs": [],
      "source": [
        "rfmodel=rf.fit(appointmentRDD)"
      ]
    },
    {
      "cell_type": "code",
      "execution_count": null,
      "metadata": {
        "id": "Vnuh6tNF1wvx"
      },
      "outputs": [],
      "source": [
        "rfpredict=rfmodel.transform(appointmentRDD)"
      ]
    },
    {
      "cell_type": "code",
      "execution_count": null,
      "metadata": {
        "colab": {
          "base_uri": "https://localhost:8080/"
        },
        "id": "7-WuoCtY11vI",
        "outputId": "2ac299b1-dfa0-4158-bd59-e85946baed2d"
      },
      "outputs": [
        {
          "data": {
            "text/plain": [
              "0.798067440534892"
            ]
          },
          "execution_count": 105,
          "metadata": {},
          "output_type": "execute_result"
        }
      ],
      "source": [
        "accuracy.evaluate(rfpredict)"
      ]
    },
    {
      "cell_type": "code",
      "execution_count": null,
      "metadata": {
        "colab": {
          "base_uri": "https://localhost:8080/"
        },
        "id": "vV751my614q2",
        "outputId": "73dc9183-7dce-4dd0-b139-88aa661dc27c"
      },
      "outputs": [
        {
          "data": {
            "text/plain": [
              "0.6048981627477866"
            ]
          },
          "execution_count": 106,
          "metadata": {},
          "output_type": "execute_result"
        }
      ],
      "source": [
        "auc.evaluate(rfpredict)"
      ]
    },
    {
      "cell_type": "code",
      "execution_count": null,
      "metadata": {
        "id": "smZpGcNC193p"
      },
      "outputs": [],
      "source": [
        "from pyspark.ml.classification import GBTClassifier"
      ]
    },
    {
      "cell_type": "code",
      "execution_count": null,
      "metadata": {
        "id": "zDSm9xl72FVn"
      },
      "outputs": [],
      "source": [
        "gbm=GBTClassifier(maxBins=81)"
      ]
    },
    {
      "cell_type": "code",
      "execution_count": null,
      "metadata": {
        "id": "tX7l0Z962KFz"
      },
      "outputs": [],
      "source": [
        "gbmmodel=gbm.fit(appointmentRDD)"
      ]
    },
    {
      "cell_type": "code",
      "execution_count": null,
      "metadata": {
        "id": "6bZQ7KB22N9l"
      },
      "outputs": [],
      "source": [
        "gbmpredict=gbmmodel.transform(appointmentRDD)"
      ]
    },
    {
      "cell_type": "code",
      "execution_count": null,
      "metadata": {
        "colab": {
          "base_uri": "https://localhost:8080/"
        },
        "id": "HTmK0i4T2VYM",
        "outputId": "c5e08ee2-e7e1-4f4c-b783-7fcb03d840c3"
      },
      "outputs": [
        {
          "data": {
            "text/plain": [
              "0.7986193418802645"
            ]
          },
          "execution_count": 111,
          "metadata": {},
          "output_type": "execute_result"
        }
      ],
      "source": [
        "accuracy.evaluate(gbmpredict)"
      ]
    },
    {
      "cell_type": "code",
      "execution_count": null,
      "metadata": {
        "colab": {
          "base_uri": "https://localhost:8080/"
        },
        "id": "3XiSDz2p2Yoc",
        "outputId": "da02c624-c63d-4f81-d093-434843aecd76"
      },
      "outputs": [
        {
          "data": {
            "text/plain": [
              "0.6442166014137939"
            ]
          },
          "execution_count": 112,
          "metadata": {},
          "output_type": "execute_result"
        }
      ],
      "source": [
        "auc.evaluate(gbmpredict)"
      ]
    },
    {
      "cell_type": "code",
      "execution_count": null,
      "metadata": {
        "id": "ZDfPXpop2chn"
      },
      "outputs": [],
      "source": [
        "from pyspark.ml.classification import LinearSVC"
      ]
    },
    {
      "cell_type": "code",
      "execution_count": null,
      "metadata": {
        "id": "sCYEs_wm3r-7"
      },
      "outputs": [],
      "source": [
        "svc=LinearSVC()"
      ]
    },
    {
      "cell_type": "code",
      "execution_count": null,
      "metadata": {
        "id": "bPwHA7lu3uto"
      },
      "outputs": [],
      "source": [
        "svcmodel=svc.fit(appointmentRDD)"
      ]
    },
    {
      "cell_type": "code",
      "execution_count": null,
      "metadata": {
        "id": "FZ_P2mLx3zJi"
      },
      "outputs": [],
      "source": [
        "svcpredict=svcmodel.transform(appointmentRDD)"
      ]
    },
    {
      "cell_type": "code",
      "execution_count": null,
      "metadata": {
        "colab": {
          "base_uri": "https://localhost:8080/"
        },
        "id": "znV_nB-C4CXL",
        "outputId": "3c698e02-defd-4802-9e83-0d821f073a48"
      },
      "outputs": [
        {
          "data": {
            "text/plain": [
              "0.798067440534892"
            ]
          },
          "execution_count": 118,
          "metadata": {},
          "output_type": "execute_result"
        }
      ],
      "source": [
        "accuracy.evaluate(svcpredict)"
      ]
    },
    {
      "cell_type": "code",
      "execution_count": null,
      "metadata": {
        "colab": {
          "base_uri": "https://localhost:8080/"
        },
        "id": "kvUHOre64Ie5",
        "outputId": "a0ddc27d-6012-41a5-b96e-e25f8771bcdf"
      },
      "outputs": [
        {
          "data": {
            "text/plain": [
              "0.5407340830926192"
            ]
          },
          "execution_count": 119,
          "metadata": {},
          "output_type": "execute_result"
        }
      ],
      "source": [
        "auc.evaluate(svcpredict)"
      ]
    },
    {
      "cell_type": "markdown",
      "metadata": {
        "id": "kKtmFN3J4MBu"
      },
      "source": [
        "# Summary\n",
        "\n",
        "| Model Name | Accuracy | ROC-AUC |\n",
        "|--|--|--|\n",
        "| Logistic Regression | 0.798067440534892 | 0.5964327533383069 |\n",
        "| Decision Tree |0.798067440534892 |0.5 |\n",
        "| Random Forest |0.798067440534892|0.6047476048470436 |\n",
        "| **Gradient Boosting Machine** | **0.7986012467541868** | **0.6454879968792955**|\n",
        "| Support Vector Machine | 0.798067440534892 |0.540733973376347|\n",
        "\n",
        "From the Accuracy and AUC we say that Gradient Boosting is best model because it giving best accuracy and ROC-AUC scores"
      ]
    },
    {
      "cell_type": "markdown",
      "metadata": {},
      "source": []
    }
  ],
  "metadata": {
    "colab": {
      "provenance": []
    },
    "kernelspec": {
      "display_name": "Python 3",
      "name": "python3"
    },
    "language_info": {
      "name": "python"
    }
  },
  "nbformat": 4,
  "nbformat_minor": 0
}
